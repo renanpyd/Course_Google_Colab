{
  "cells": [
    {
      "cell_type": "markdown",
      "metadata": {
        "id": "view-in-github",
        "colab_type": "text"
      },
      "source": [
        "<a href=\"https://colab.research.google.com/github/renanpyd/Course_Google_Colab/blob/main/site/en/tutorials/keras/keras_tuner.ipynb\" target=\"_parent\"><img src=\"https://colab.research.google.com/assets/colab-badge.svg\" alt=\"Open In Colab\"/></a>"
      ]
    },
    {
      "cell_type": "markdown",
      "metadata": {
        "id": "Tce3stUlHN0L"
      },
      "source": [
        "##### Copyright 2020 The TensorFlow Authors."
      ]
    },
    {
      "cell_type": "code",
      "execution_count": 1,
      "metadata": {
        "cellView": "form",
        "id": "tuOe1ymfHZPu"
      },
      "outputs": [],
      "source": [
        "#@title Licensed under the Apache License, Version 2.0 (the \"License\");\n",
        "# you may not use this file except in compliance with the License.\n",
        "# You may obtain a copy of the License at\n",
        "#\n",
        "# https://www.apache.org/licenses/LICENSE-2.0\n",
        "#\n",
        "# Unless required by applicable law or agreed to in writing, software\n",
        "# distributed under the License is distributed on an \"AS IS\" BASIS,\n",
        "# WITHOUT WARRANTIES OR CONDITIONS OF ANY KIND, either express or implied.\n",
        "# See the License for the specific language governing permissions and\n",
        "# limitations under the License."
      ]
    },
    {
      "cell_type": "markdown",
      "metadata": {
        "id": "qFdPvlXBOdUN"
      },
      "source": [
        "# Introduction to the Keras Tuner"
      ]
    },
    {
      "cell_type": "markdown",
      "metadata": {
        "id": "xHxb-dlhMIzW"
      },
      "source": [
        "## Overview\n",
        "\n",
        "The Keras Tuner is a library that helps you pick the optimal set of hyperparameters for your TensorFlow program. The process of selecting the right set of hyperparameters for your machine learning (ML) application is called *hyperparameter tuning* or *hypertuning*.\n",
        "\n",
        "Hyperparameters are the variables that govern the training process and the topology of an ML model. These variables remain constant over the training process and directly impact the performance of your ML program. Hyperparameters are of two types:\n",
        "1. **Model hyperparameters** which influence model selection such as the number and width of hidden layers\n",
        "2. **Algorithm hyperparameters** which influence the speed and quality of the learning algorithm such as the learning rate for Stochastic Gradient Descent (SGD) and the number of nearest neighbors for a k Nearest Neighbors (KNN) classifier\n",
        "\n",
        "In this tutorial, you will use the Keras Tuner to perform hypertuning for an image classification application."
      ]
    },
    {
      "cell_type": "markdown",
      "metadata": {
        "id": "MUXex9ctTuDB"
      },
      "source": [
        "## Setup"
      ]
    },
    {
      "cell_type": "code",
      "execution_count": 2,
      "metadata": {
        "id": "IqR2PQG4ZaZ0"
      },
      "outputs": [],
      "source": [
        "import tensorflow as tf\n",
        "from tensorflow import keras"
      ]
    },
    {
      "cell_type": "markdown",
      "metadata": {
        "id": "g83Lwsy-Aq2_"
      },
      "source": [
        "Install and import the Keras Tuner."
      ]
    },
    {
      "cell_type": "code",
      "execution_count": 3,
      "metadata": {
        "id": "hpMLpbt9jcO6",
        "outputId": "e1411340-be5a-49fe-bcb4-fd59b89455de",
        "colab": {
          "base_uri": "https://localhost:8080/"
        }
      },
      "outputs": [
        {
          "output_type": "stream",
          "name": "stdout",
          "text": [
            "\u001b[?25l\r\u001b[K     |███▍                            | 10 kB 30.7 MB/s eta 0:00:01\r\u001b[K     |██████▊                         | 20 kB 9.0 MB/s eta 0:00:01\r\u001b[K     |██████████                      | 30 kB 7.6 MB/s eta 0:00:01\r\u001b[K     |█████████████▍                  | 40 kB 7.5 MB/s eta 0:00:01\r\u001b[K     |████████████████▊               | 51 kB 4.3 MB/s eta 0:00:01\r\u001b[K     |████████████████████            | 61 kB 4.6 MB/s eta 0:00:01\r\u001b[K     |███████████████████████▍        | 71 kB 4.5 MB/s eta 0:00:01\r\u001b[K     |██████████████████████████▊     | 81 kB 5.0 MB/s eta 0:00:01\r\u001b[K     |██████████████████████████████  | 92 kB 5.2 MB/s eta 0:00:01\r\u001b[K     |████████████████████████████████| 98 kB 3.6 MB/s \n",
            "\u001b[?25h"
          ]
        }
      ],
      "source": [
        "!pip install -q -U keras-tuner"
      ]
    },
    {
      "cell_type": "code",
      "execution_count": 4,
      "metadata": {
        "id": "_leAIdFKAxAD"
      },
      "outputs": [],
      "source": [
        "import keras_tuner as kt"
      ]
    },
    {
      "cell_type": "markdown",
      "metadata": {
        "id": "ReV_UXOgCZvx"
      },
      "source": [
        "## Download and prepare the dataset\n",
        "\n",
        "In this tutorial, you will use the Keras Tuner to find the best hyperparameters for a machine learning model that classifies images of clothing from the [Fashion MNIST dataset](https://github.com/zalandoresearch/fashion-mnist)."
      ]
    },
    {
      "cell_type": "markdown",
      "metadata": {
        "id": "HljH_ENLEdHa"
      },
      "source": [
        "Load the data."
      ]
    },
    {
      "cell_type": "code",
      "execution_count": 5,
      "metadata": {
        "id": "OHlHs9Wj_PUM",
        "outputId": "6da7feb8-f616-44a2-d9b8-80448ed587eb",
        "colab": {
          "base_uri": "https://localhost:8080/"
        }
      },
      "outputs": [
        {
          "output_type": "stream",
          "name": "stdout",
          "text": [
            "Downloading data from https://storage.googleapis.com/tensorflow/tf-keras-datasets/train-labels-idx1-ubyte.gz\n",
            "32768/29515 [=================================] - 0s 0us/step\n",
            "40960/29515 [=========================================] - 0s 0us/step\n",
            "Downloading data from https://storage.googleapis.com/tensorflow/tf-keras-datasets/train-images-idx3-ubyte.gz\n",
            "26427392/26421880 [==============================] - 0s 0us/step\n",
            "26435584/26421880 [==============================] - 0s 0us/step\n",
            "Downloading data from https://storage.googleapis.com/tensorflow/tf-keras-datasets/t10k-labels-idx1-ubyte.gz\n",
            "16384/5148 [===============================================================================================] - 0s 0us/step\n",
            "Downloading data from https://storage.googleapis.com/tensorflow/tf-keras-datasets/t10k-images-idx3-ubyte.gz\n",
            "4423680/4422102 [==============================] - 0s 0us/step\n",
            "4431872/4422102 [==============================] - 0s 0us/step\n"
          ]
        }
      ],
      "source": [
        "(img_train, label_train), (img_test, label_test) = keras.datasets.fashion_mnist.load_data()"
      ]
    },
    {
      "cell_type": "code",
      "execution_count": 6,
      "metadata": {
        "id": "bLVhXs3xrUD0"
      },
      "outputs": [],
      "source": [
        "# Normalize pixel values between 0 and 1\n",
        "img_train = img_train.astype('float32') / 255.0\n",
        "img_test = img_test.astype('float32') / 255.0"
      ]
    },
    {
      "cell_type": "markdown",
      "metadata": {
        "id": "K5YEL2H2Ax3e"
      },
      "source": [
        "## Define the model\n",
        "\n",
        "When you build a model for hypertuning, you also define the hyperparameter search space in addition to the model architecture. The model you set up for hypertuning is called a *hypermodel*.\n",
        "\n",
        "You can define a hypermodel through two approaches:\n",
        "\n",
        "* By using a model builder function\n",
        "* By subclassing the `HyperModel` class of the Keras Tuner API\n",
        "\n",
        "You can also use two pre-defined `HyperModel` classes - [HyperXception](https://keras-team.github.io/keras-tuner/documentation/hypermodels/#hyperxception-class) and [HyperResNet](https://keras-team.github.io/keras-tuner/documentation/hypermodels/#hyperresnet-class) for computer vision applications.\n",
        "\n",
        "In this tutorial, you use a model builder function to define the image classification model. The model builder function returns a compiled model and uses hyperparameters you define inline to hypertune the model."
      ]
    },
    {
      "cell_type": "code",
      "execution_count": 7,
      "metadata": {
        "id": "ZQKodC-jtsva"
      },
      "outputs": [],
      "source": [
        "def model_builder(hp):\n",
        "  model = keras.Sequential()\n",
        "  model.add(keras.layers.Flatten(input_shape=(28, 28)))\n",
        "\n",
        "  # Tune the number of units in the first Dense layer\n",
        "  # Choose an optimal value between 32-512\n",
        "  hp_units = hp.Int('units', min_value=32, max_value=512, step=32)\n",
        "  model.add(keras.layers.Dense(units=hp_units, activation='relu'))\n",
        "  model.add(keras.layers.Dense(10))\n",
        "\n",
        "  # Tune the learning rate for the optimizer\n",
        "  # Choose an optimal value from 0.01, 0.001, or 0.0001\n",
        "  hp_learning_rate = hp.Choice('learning_rate', values=[1e-2, 1e-3, 1e-4])\n",
        "\n",
        "  model.compile(optimizer=keras.optimizers.Adam(learning_rate=hp_learning_rate),\n",
        "                loss=keras.losses.SparseCategoricalCrossentropy(from_logits=True),\n",
        "                metrics=['accuracy'])\n",
        "\n",
        "  return model"
      ]
    },
    {
      "cell_type": "markdown",
      "metadata": {
        "id": "0J1VYw4q3x0b"
      },
      "source": [
        "## Instantiate the tuner and perform hypertuning\n",
        "\n",
        "Instantiate the tuner to perform the hypertuning. The Keras Tuner has four tuners available - `RandomSearch`, `Hyperband`, `BayesianOptimization`, and `Sklearn`. In this tutorial, you use the [Hyperband](https://arxiv.org/pdf/1603.06560.pdf) tuner.\n",
        "\n",
        "To instantiate the Hyperband tuner, you must specify the hypermodel, the `objective` to optimize and the maximum number of epochs to train (`max_epochs`)."
      ]
    },
    {
      "cell_type": "code",
      "execution_count": 8,
      "metadata": {
        "id": "oichQFly6Y46"
      },
      "outputs": [],
      "source": [
        "tuner = kt.Hyperband(model_builder,\n",
        "                     objective='val_accuracy',\n",
        "                     max_epochs=10,\n",
        "                     factor=3,\n",
        "                     directory='my_dir',\n",
        "                     project_name='intro_to_kt')"
      ]
    },
    {
      "cell_type": "markdown",
      "metadata": {
        "id": "VaIhhdKf9VtI"
      },
      "source": [
        "The Hyperband tuning algorithm uses adaptive resource allocation and early-stopping to quickly converge on a high-performing model. This is done using a sports championship style bracket. The algorithm trains a large number of models for a few epochs and carries forward only the top-performing half of models to the next round. Hyperband determines the number of models to train in a bracket by computing 1 + log<sub>`factor`</sub>(`max_epochs`) and rounding it up to the nearest integer."
      ]
    },
    {
      "cell_type": "markdown",
      "metadata": {
        "id": "cwhBdXx0Ekj8"
      },
      "source": [
        "Create a callback to stop training early after reaching a certain value for the validation loss."
      ]
    },
    {
      "cell_type": "code",
      "execution_count": 9,
      "metadata": {
        "id": "WT9IkS9NEjLc"
      },
      "outputs": [],
      "source": [
        "stop_early = tf.keras.callbacks.EarlyStopping(monitor='val_loss', patience=5)"
      ]
    },
    {
      "cell_type": "markdown",
      "metadata": {
        "id": "UKghEo15Tduy"
      },
      "source": [
        "Run the hyperparameter search. The arguments for the search method are the same as those used for `tf.keras.model.fit` in addition to the callback above."
      ]
    },
    {
      "cell_type": "code",
      "execution_count": 10,
      "metadata": {
        "id": "dSBQcTHF9cKt",
        "outputId": "7733f7cc-a3cd-4896-c13a-be2ba2a9f000",
        "colab": {
          "base_uri": "https://localhost:8080/"
        }
      },
      "outputs": [
        {
          "output_type": "stream",
          "name": "stdout",
          "text": [
            "Trial 30 Complete [00h 00m 41s]\n",
            "val_accuracy: 0.8807500004768372\n",
            "\n",
            "Best val_accuracy So Far: 0.8859999775886536\n",
            "Total elapsed time: 00h 09m 26s\n",
            "INFO:tensorflow:Oracle triggered exit\n",
            "\n",
            "The hyperparameter search is complete. The optimal number of units in the first densely-connected\n",
            "layer is 96 and the optimal learning rate for the optimizer\n",
            "is 0.001.\n",
            "\n"
          ]
        }
      ],
      "source": [
        "tuner.search(img_train, label_train, epochs=50, validation_split=0.2, callbacks=[stop_early])\n",
        "\n",
        "# Get the optimal hyperparameters\n",
        "best_hps=tuner.get_best_hyperparameters(num_trials=1)[0]\n",
        "\n",
        "print(f\"\"\"\n",
        "The hyperparameter search is complete. The optimal number of units in the first densely-connected\n",
        "layer is {best_hps.get('units')} and the optimal learning rate for the optimizer\n",
        "is {best_hps.get('learning_rate')}.\n",
        "\"\"\")"
      ]
    },
    {
      "cell_type": "markdown",
      "metadata": {
        "id": "Lak_ylf88xBv"
      },
      "source": [
        "## Train the model\n",
        "\n",
        "Find the optimal number of epochs to train the model with the hyperparameters obtained from the search."
      ]
    },
    {
      "cell_type": "code",
      "execution_count": 11,
      "metadata": {
        "id": "McO82AXOuxXh",
        "outputId": "c3f6825a-b827-4e82-ae82-9a193625ba55",
        "colab": {
          "base_uri": "https://localhost:8080/"
        }
      },
      "outputs": [
        {
          "output_type": "stream",
          "name": "stdout",
          "text": [
            "Epoch 1/50\n",
            "1500/1500 [==============================] - 4s 2ms/step - loss: 0.5266 - accuracy: 0.8169 - val_loss: 0.4409 - val_accuracy: 0.8418\n",
            "Epoch 2/50\n",
            "1500/1500 [==============================] - 4s 2ms/step - loss: 0.3926 - accuracy: 0.8591 - val_loss: 0.3713 - val_accuracy: 0.8679\n",
            "Epoch 3/50\n",
            "1500/1500 [==============================] - 3s 2ms/step - loss: 0.3525 - accuracy: 0.8732 - val_loss: 0.3563 - val_accuracy: 0.8706\n",
            "Epoch 4/50\n",
            "1500/1500 [==============================] - 4s 2ms/step - loss: 0.3255 - accuracy: 0.8806 - val_loss: 0.3572 - val_accuracy: 0.8737\n",
            "Epoch 5/50\n",
            "1500/1500 [==============================] - 4s 2ms/step - loss: 0.3052 - accuracy: 0.8869 - val_loss: 0.3414 - val_accuracy: 0.8796\n",
            "Epoch 6/50\n",
            "1500/1500 [==============================] - 4s 2ms/step - loss: 0.2893 - accuracy: 0.8936 - val_loss: 0.3419 - val_accuracy: 0.8779\n",
            "Epoch 7/50\n",
            "1500/1500 [==============================] - 4s 2ms/step - loss: 0.2762 - accuracy: 0.8987 - val_loss: 0.3238 - val_accuracy: 0.8843\n",
            "Epoch 8/50\n",
            "1500/1500 [==============================] - 4s 2ms/step - loss: 0.2646 - accuracy: 0.9027 - val_loss: 0.3217 - val_accuracy: 0.8859\n",
            "Epoch 9/50\n",
            "1500/1500 [==============================] - 4s 2ms/step - loss: 0.2561 - accuracy: 0.9055 - val_loss: 0.3150 - val_accuracy: 0.8877\n",
            "Epoch 10/50\n",
            "1500/1500 [==============================] - 4s 2ms/step - loss: 0.2487 - accuracy: 0.9075 - val_loss: 0.3147 - val_accuracy: 0.8877\n",
            "Epoch 11/50\n",
            "1500/1500 [==============================] - 4s 2ms/step - loss: 0.2365 - accuracy: 0.9134 - val_loss: 0.3522 - val_accuracy: 0.8778\n",
            "Epoch 12/50\n",
            "1500/1500 [==============================] - 4s 2ms/step - loss: 0.2311 - accuracy: 0.9137 - val_loss: 0.3111 - val_accuracy: 0.8899\n",
            "Epoch 13/50\n",
            "1500/1500 [==============================] - 4s 2ms/step - loss: 0.2224 - accuracy: 0.9172 - val_loss: 0.3150 - val_accuracy: 0.8884\n",
            "Epoch 14/50\n",
            "1500/1500 [==============================] - 4s 2ms/step - loss: 0.2186 - accuracy: 0.9175 - val_loss: 0.3214 - val_accuracy: 0.8887\n",
            "Epoch 15/50\n",
            "1500/1500 [==============================] - 4s 2ms/step - loss: 0.2106 - accuracy: 0.9215 - val_loss: 0.3264 - val_accuracy: 0.8894\n",
            "Epoch 16/50\n",
            "1500/1500 [==============================] - 4s 2ms/step - loss: 0.2052 - accuracy: 0.9235 - val_loss: 0.3286 - val_accuracy: 0.8892\n",
            "Epoch 17/50\n",
            "1500/1500 [==============================] - 4s 2ms/step - loss: 0.1998 - accuracy: 0.9253 - val_loss: 0.3291 - val_accuracy: 0.8903\n",
            "Epoch 18/50\n",
            "1500/1500 [==============================] - 3s 2ms/step - loss: 0.1959 - accuracy: 0.9271 - val_loss: 0.3380 - val_accuracy: 0.8880\n",
            "Epoch 19/50\n",
            "1500/1500 [==============================] - 4s 2ms/step - loss: 0.1880 - accuracy: 0.9295 - val_loss: 0.3465 - val_accuracy: 0.8882\n",
            "Epoch 20/50\n",
            "1500/1500 [==============================] - 4s 2ms/step - loss: 0.1848 - accuracy: 0.9310 - val_loss: 0.3481 - val_accuracy: 0.8880\n",
            "Epoch 21/50\n",
            "1500/1500 [==============================] - 4s 2ms/step - loss: 0.1802 - accuracy: 0.9334 - val_loss: 0.3340 - val_accuracy: 0.8891\n",
            "Epoch 22/50\n",
            "1500/1500 [==============================] - 4s 2ms/step - loss: 0.1786 - accuracy: 0.9332 - val_loss: 0.3783 - val_accuracy: 0.8829\n",
            "Epoch 23/50\n",
            "1500/1500 [==============================] - 4s 2ms/step - loss: 0.1735 - accuracy: 0.9349 - val_loss: 0.3564 - val_accuracy: 0.8857\n",
            "Epoch 24/50\n",
            "1500/1500 [==============================] - 4s 3ms/step - loss: 0.1689 - accuracy: 0.9366 - val_loss: 0.3790 - val_accuracy: 0.8848\n",
            "Epoch 25/50\n",
            "1500/1500 [==============================] - 4s 3ms/step - loss: 0.1654 - accuracy: 0.9389 - val_loss: 0.3562 - val_accuracy: 0.8903\n",
            "Epoch 26/50\n",
            "1500/1500 [==============================] - 4s 2ms/step - loss: 0.1601 - accuracy: 0.9407 - val_loss: 0.3650 - val_accuracy: 0.8904\n",
            "Epoch 27/50\n",
            "1500/1500 [==============================] - 4s 2ms/step - loss: 0.1574 - accuracy: 0.9409 - val_loss: 0.3710 - val_accuracy: 0.8907\n",
            "Epoch 28/50\n",
            "1500/1500 [==============================] - 4s 2ms/step - loss: 0.1543 - accuracy: 0.9416 - val_loss: 0.3586 - val_accuracy: 0.8929\n",
            "Epoch 29/50\n",
            "1500/1500 [==============================] - 4s 2ms/step - loss: 0.1494 - accuracy: 0.9445 - val_loss: 0.3873 - val_accuracy: 0.8903\n",
            "Epoch 30/50\n",
            "1500/1500 [==============================] - 4s 2ms/step - loss: 0.1474 - accuracy: 0.9446 - val_loss: 0.3663 - val_accuracy: 0.8937\n",
            "Epoch 31/50\n",
            "1500/1500 [==============================] - 4s 2ms/step - loss: 0.1430 - accuracy: 0.9464 - val_loss: 0.3920 - val_accuracy: 0.8823\n",
            "Epoch 32/50\n",
            "1500/1500 [==============================] - 4s 2ms/step - loss: 0.1417 - accuracy: 0.9461 - val_loss: 0.3909 - val_accuracy: 0.8887\n",
            "Epoch 33/50\n",
            "1500/1500 [==============================] - 4s 2ms/step - loss: 0.1387 - accuracy: 0.9474 - val_loss: 0.4184 - val_accuracy: 0.8818\n",
            "Epoch 34/50\n",
            "1500/1500 [==============================] - 4s 2ms/step - loss: 0.1392 - accuracy: 0.9489 - val_loss: 0.3875 - val_accuracy: 0.8892\n",
            "Epoch 35/50\n",
            "1500/1500 [==============================] - 3s 2ms/step - loss: 0.1326 - accuracy: 0.9504 - val_loss: 0.4026 - val_accuracy: 0.8895\n",
            "Epoch 36/50\n",
            "1500/1500 [==============================] - 4s 2ms/step - loss: 0.1295 - accuracy: 0.9531 - val_loss: 0.3989 - val_accuracy: 0.8869\n",
            "Epoch 37/50\n",
            "1500/1500 [==============================] - 4s 2ms/step - loss: 0.1292 - accuracy: 0.9524 - val_loss: 0.4077 - val_accuracy: 0.8880\n",
            "Epoch 38/50\n",
            "1500/1500 [==============================] - 4s 2ms/step - loss: 0.1256 - accuracy: 0.9529 - val_loss: 0.4079 - val_accuracy: 0.8896\n",
            "Epoch 39/50\n",
            "1500/1500 [==============================] - 4s 2ms/step - loss: 0.1239 - accuracy: 0.9540 - val_loss: 0.4119 - val_accuracy: 0.8939\n",
            "Epoch 40/50\n",
            "1500/1500 [==============================] - 4s 2ms/step - loss: 0.1210 - accuracy: 0.9553 - val_loss: 0.4301 - val_accuracy: 0.8860\n",
            "Epoch 41/50\n",
            "1500/1500 [==============================] - 4s 2ms/step - loss: 0.1177 - accuracy: 0.9563 - val_loss: 0.4364 - val_accuracy: 0.8903\n",
            "Epoch 42/50\n",
            "1500/1500 [==============================] - 4s 2ms/step - loss: 0.1166 - accuracy: 0.9564 - val_loss: 0.4188 - val_accuracy: 0.8898\n",
            "Epoch 43/50\n",
            "1500/1500 [==============================] - 4s 2ms/step - loss: 0.1176 - accuracy: 0.9564 - val_loss: 0.4526 - val_accuracy: 0.8838\n",
            "Epoch 44/50\n",
            "1500/1500 [==============================] - 4s 2ms/step - loss: 0.1124 - accuracy: 0.9575 - val_loss: 0.4501 - val_accuracy: 0.8867\n",
            "Epoch 45/50\n",
            "1500/1500 [==============================] - 4s 2ms/step - loss: 0.1100 - accuracy: 0.9596 - val_loss: 0.4811 - val_accuracy: 0.8839\n",
            "Epoch 46/50\n",
            "1500/1500 [==============================] - 4s 2ms/step - loss: 0.1093 - accuracy: 0.9592 - val_loss: 0.4456 - val_accuracy: 0.8913\n",
            "Epoch 47/50\n",
            "1500/1500 [==============================] - 4s 2ms/step - loss: 0.1096 - accuracy: 0.9589 - val_loss: 0.4623 - val_accuracy: 0.8910\n",
            "Epoch 48/50\n",
            "1500/1500 [==============================] - 4s 2ms/step - loss: 0.1039 - accuracy: 0.9619 - val_loss: 0.4486 - val_accuracy: 0.8889\n",
            "Epoch 49/50\n",
            "1500/1500 [==============================] - 4s 2ms/step - loss: 0.1022 - accuracy: 0.9625 - val_loss: 0.4661 - val_accuracy: 0.8873\n",
            "Epoch 50/50\n",
            "1500/1500 [==============================] - 4s 3ms/step - loss: 0.1030 - accuracy: 0.9616 - val_loss: 0.4781 - val_accuracy: 0.8834\n",
            "Best epoch: 39\n"
          ]
        }
      ],
      "source": [
        "# Build the model with the optimal hyperparameters and train it on the data for 50 epochs\n",
        "model = tuner.hypermodel.build(best_hps)\n",
        "history = model.fit(img_train, label_train, epochs=50, validation_split=0.2)\n",
        "\n",
        "val_acc_per_epoch = history.history['val_accuracy']\n",
        "best_epoch = val_acc_per_epoch.index(max(val_acc_per_epoch)) + 1\n",
        "print('Best epoch: %d' % (best_epoch,))"
      ]
    },
    {
      "cell_type": "markdown",
      "metadata": {
        "id": "uOTSirSTI3Gp"
      },
      "source": [
        "Re-instantiate the hypermodel and train it with the optimal number of epochs from above."
      ]
    },
    {
      "cell_type": "code",
      "execution_count": 12,
      "metadata": {
        "id": "NoiPUEHmMhCe",
        "outputId": "526be921-8d60-4d8b-dc60-f990ceb94375",
        "colab": {
          "base_uri": "https://localhost:8080/"
        }
      },
      "outputs": [
        {
          "output_type": "stream",
          "name": "stdout",
          "text": [
            "Epoch 1/39\n",
            "1500/1500 [==============================] - 4s 2ms/step - loss: 0.5289 - accuracy: 0.8154 - val_loss: 0.4244 - val_accuracy: 0.8529\n",
            "Epoch 2/39\n",
            "1500/1500 [==============================] - 4s 2ms/step - loss: 0.3930 - accuracy: 0.8594 - val_loss: 0.3828 - val_accuracy: 0.8625\n",
            "Epoch 3/39\n",
            "1500/1500 [==============================] - 4s 2ms/step - loss: 0.3525 - accuracy: 0.8715 - val_loss: 0.3753 - val_accuracy: 0.8597\n",
            "Epoch 4/39\n",
            "1500/1500 [==============================] - 4s 2ms/step - loss: 0.3259 - accuracy: 0.8813 - val_loss: 0.3629 - val_accuracy: 0.8711\n",
            "Epoch 5/39\n",
            "1500/1500 [==============================] - 4s 2ms/step - loss: 0.3091 - accuracy: 0.8860 - val_loss: 0.3449 - val_accuracy: 0.8766\n",
            "Epoch 6/39\n",
            "1500/1500 [==============================] - 4s 2ms/step - loss: 0.2902 - accuracy: 0.8919 - val_loss: 0.3423 - val_accuracy: 0.8789\n",
            "Epoch 7/39\n",
            "1500/1500 [==============================] - 4s 2ms/step - loss: 0.2777 - accuracy: 0.8968 - val_loss: 0.3272 - val_accuracy: 0.8834\n",
            "Epoch 8/39\n",
            "1500/1500 [==============================] - 4s 2ms/step - loss: 0.2677 - accuracy: 0.9004 - val_loss: 0.3703 - val_accuracy: 0.8673\n",
            "Epoch 9/39\n",
            "1500/1500 [==============================] - 4s 2ms/step - loss: 0.2588 - accuracy: 0.9035 - val_loss: 0.3433 - val_accuracy: 0.8789\n",
            "Epoch 10/39\n",
            "1500/1500 [==============================] - 4s 2ms/step - loss: 0.2483 - accuracy: 0.9070 - val_loss: 0.3336 - val_accuracy: 0.8802\n",
            "Epoch 11/39\n",
            "1500/1500 [==============================] - 4s 2ms/step - loss: 0.2410 - accuracy: 0.9097 - val_loss: 0.3138 - val_accuracy: 0.8871\n",
            "Epoch 12/39\n",
            "1500/1500 [==============================] - 4s 2ms/step - loss: 0.2338 - accuracy: 0.9129 - val_loss: 0.3361 - val_accuracy: 0.8853\n",
            "Epoch 13/39\n",
            "1500/1500 [==============================] - 4s 2ms/step - loss: 0.2257 - accuracy: 0.9140 - val_loss: 0.3295 - val_accuracy: 0.8879\n",
            "Epoch 14/39\n",
            "1500/1500 [==============================] - 4s 2ms/step - loss: 0.2195 - accuracy: 0.9180 - val_loss: 0.3392 - val_accuracy: 0.8851\n",
            "Epoch 15/39\n",
            "1500/1500 [==============================] - 4s 2ms/step - loss: 0.2152 - accuracy: 0.9192 - val_loss: 0.3226 - val_accuracy: 0.8908\n",
            "Epoch 16/39\n",
            "1500/1500 [==============================] - 4s 2ms/step - loss: 0.2074 - accuracy: 0.9221 - val_loss: 0.3605 - val_accuracy: 0.8791\n",
            "Epoch 17/39\n",
            "1500/1500 [==============================] - 4s 2ms/step - loss: 0.2017 - accuracy: 0.9241 - val_loss: 0.3406 - val_accuracy: 0.8871\n",
            "Epoch 18/39\n",
            "1500/1500 [==============================] - 4s 2ms/step - loss: 0.1964 - accuracy: 0.9258 - val_loss: 0.3493 - val_accuracy: 0.8850\n",
            "Epoch 19/39\n",
            "1500/1500 [==============================] - 4s 2ms/step - loss: 0.1918 - accuracy: 0.9286 - val_loss: 0.3479 - val_accuracy: 0.8888\n",
            "Epoch 20/39\n",
            "1500/1500 [==============================] - 4s 2ms/step - loss: 0.1870 - accuracy: 0.9288 - val_loss: 0.3541 - val_accuracy: 0.8878\n",
            "Epoch 21/39\n",
            "1500/1500 [==============================] - 4s 2ms/step - loss: 0.1835 - accuracy: 0.9311 - val_loss: 0.3592 - val_accuracy: 0.8897\n",
            "Epoch 22/39\n",
            "1500/1500 [==============================] - 4s 2ms/step - loss: 0.1799 - accuracy: 0.9317 - val_loss: 0.3471 - val_accuracy: 0.8894\n",
            "Epoch 23/39\n",
            "1500/1500 [==============================] - 4s 2ms/step - loss: 0.1738 - accuracy: 0.9349 - val_loss: 0.3640 - val_accuracy: 0.8857\n",
            "Epoch 24/39\n",
            "1500/1500 [==============================] - 4s 2ms/step - loss: 0.1692 - accuracy: 0.9368 - val_loss: 0.3675 - val_accuracy: 0.8875\n",
            "Epoch 25/39\n",
            "1500/1500 [==============================] - 4s 2ms/step - loss: 0.1688 - accuracy: 0.9361 - val_loss: 0.3708 - val_accuracy: 0.8846\n",
            "Epoch 26/39\n",
            "1500/1500 [==============================] - 4s 2ms/step - loss: 0.1639 - accuracy: 0.9383 - val_loss: 0.3642 - val_accuracy: 0.8916\n",
            "Epoch 27/39\n",
            "1500/1500 [==============================] - 4s 2ms/step - loss: 0.1610 - accuracy: 0.9408 - val_loss: 0.3955 - val_accuracy: 0.8819\n",
            "Epoch 28/39\n",
            "1500/1500 [==============================] - 4s 2ms/step - loss: 0.1556 - accuracy: 0.9427 - val_loss: 0.3876 - val_accuracy: 0.8869\n",
            "Epoch 29/39\n",
            "1500/1500 [==============================] - 4s 2ms/step - loss: 0.1534 - accuracy: 0.9430 - val_loss: 0.3936 - val_accuracy: 0.8884\n",
            "Epoch 30/39\n",
            "1500/1500 [==============================] - 4s 2ms/step - loss: 0.1507 - accuracy: 0.9440 - val_loss: 0.3816 - val_accuracy: 0.8922\n",
            "Epoch 31/39\n",
            "1500/1500 [==============================] - 4s 2ms/step - loss: 0.1453 - accuracy: 0.9457 - val_loss: 0.3880 - val_accuracy: 0.8857\n",
            "Epoch 32/39\n",
            "1500/1500 [==============================] - 4s 2ms/step - loss: 0.1421 - accuracy: 0.9468 - val_loss: 0.4050 - val_accuracy: 0.8838\n",
            "Epoch 33/39\n",
            "1500/1500 [==============================] - 4s 2ms/step - loss: 0.1424 - accuracy: 0.9463 - val_loss: 0.4230 - val_accuracy: 0.8817\n",
            "Epoch 34/39\n",
            "1500/1500 [==============================] - 4s 2ms/step - loss: 0.1365 - accuracy: 0.9494 - val_loss: 0.4132 - val_accuracy: 0.8888\n",
            "Epoch 35/39\n",
            "1500/1500 [==============================] - 4s 2ms/step - loss: 0.1385 - accuracy: 0.9477 - val_loss: 0.4035 - val_accuracy: 0.8902\n",
            "Epoch 36/39\n",
            "1500/1500 [==============================] - 4s 2ms/step - loss: 0.1332 - accuracy: 0.9493 - val_loss: 0.4053 - val_accuracy: 0.8894\n",
            "Epoch 37/39\n",
            "1500/1500 [==============================] - 4s 2ms/step - loss: 0.1309 - accuracy: 0.9509 - val_loss: 0.4208 - val_accuracy: 0.8829\n",
            "Epoch 38/39\n",
            "1500/1500 [==============================] - 4s 2ms/step - loss: 0.1281 - accuracy: 0.9516 - val_loss: 0.4396 - val_accuracy: 0.8878\n",
            "Epoch 39/39\n",
            "1500/1500 [==============================] - 4s 2ms/step - loss: 0.1290 - accuracy: 0.9520 - val_loss: 0.4196 - val_accuracy: 0.8873\n"
          ]
        },
        {
          "output_type": "execute_result",
          "data": {
            "text/plain": [
              "<keras.callbacks.History at 0x7fd13ccf5e90>"
            ]
          },
          "metadata": {},
          "execution_count": 12
        }
      ],
      "source": [
        "hypermodel = tuner.hypermodel.build(best_hps)\n",
        "\n",
        "# Retrain the model\n",
        "hypermodel.fit(img_train, label_train, epochs=best_epoch, validation_split=0.2)"
      ]
    },
    {
      "cell_type": "markdown",
      "metadata": {
        "id": "MqU5ZVAaag2v"
      },
      "source": [
        "To finish this tutorial, evaluate the hypermodel on the test data."
      ]
    },
    {
      "cell_type": "code",
      "execution_count": 13,
      "metadata": {
        "id": "9E0BTp9Ealjb",
        "outputId": "b755c7dd-fc4d-42fa-bfc4-10e524880407",
        "colab": {
          "base_uri": "https://localhost:8080/"
        }
      },
      "outputs": [
        {
          "output_type": "stream",
          "name": "stdout",
          "text": [
            "313/313 [==============================] - 1s 2ms/step - loss: 0.4524 - accuracy: 0.8844\n",
            "[test loss, test accuracy]: [0.45239511132240295, 0.8844000101089478]\n"
          ]
        }
      ],
      "source": [
        "eval_result = hypermodel.evaluate(img_test, label_test)\n",
        "print(\"[test loss, test accuracy]:\", eval_result)"
      ]
    },
    {
      "cell_type": "markdown",
      "metadata": {
        "id": "EQRpPHZsz-eC"
      },
      "source": [
        "The `my_dir/intro_to_kt` directory contains detailed logs and checkpoints for every trial (model configuration) run during the hyperparameter search. If you re-run the hyperparameter search, the Keras Tuner uses the existing state from these logs to resume the search. To disable this behavior, pass an additional `overwrite=True` argument while instantiating the tuner."
      ]
    },
    {
      "cell_type": "markdown",
      "metadata": {
        "id": "sKwLOzKpFGAj"
      },
      "source": [
        "## Summary\n",
        "\n",
        "In this tutorial, you learned how to use the Keras Tuner to tune hyperparameters for a model. To learn more about the Keras Tuner, check out these additional resources:\n",
        "\n",
        "* [Keras Tuner on the TensorFlow blog](https://blog.tensorflow.org/2020/01/hyperparameter-tuning-with-keras-tuner.html)\n",
        "* [Keras Tuner website](https://keras-team.github.io/keras-tuner/)\n",
        "\n",
        "Also check out the [HParams Dashboard](https://www.tensorflow.org/tensorboard/hyperparameter_tuning_with_hparams) in TensorBoard to interactively tune your model hyperparameters."
      ]
    }
  ],
  "metadata": {
    "accelerator": "GPU",
    "colab": {
      "collapsed_sections": [
        "Tce3stUlHN0L"
      ],
      "name": "keras_tuner.ipynb",
      "toc_visible": true,
      "provenance": [],
      "include_colab_link": true
    },
    "kernelspec": {
      "display_name": "Python 3",
      "name": "python3"
    }
  },
  "nbformat": 4,
  "nbformat_minor": 0
}
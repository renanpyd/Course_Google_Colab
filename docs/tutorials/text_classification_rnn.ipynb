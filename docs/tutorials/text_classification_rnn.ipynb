{
  "cells": [
    {
      "cell_type": "markdown",
      "metadata": {
        "id": "view-in-github",
        "colab_type": "text"
      },
      "source": [
        "<a href=\"https://colab.research.google.com/github/renanpyd/Course_Google_Colab/blob/main/docs/tutorials/text_classification_rnn.ipynb\" target=\"_parent\"><img src=\"https://colab.research.google.com/assets/colab-badge.svg\" alt=\"Open In Colab\"/></a>"
      ]
    },
    {
      "cell_type": "markdown",
      "metadata": {
        "id": "9TnJztDZGw-n"
      },
      "source": [
        "# Text classification with an RNN"
      ]
    },
    {
      "cell_type": "markdown",
      "metadata": {
        "id": "lUWearf0Gw-p"
      },
      "source": [
        "This text classification tutorial trains a [recurrent neural network](https://developers.google.com/machine-learning/glossary/#recurrent_neural_network) on the [IMDB large movie review dataset](http://ai.stanford.edu/~amaas/data/sentiment/) for sentiment analysis."
      ]
    },
    {
      "cell_type": "markdown",
      "metadata": {
        "id": "_2VQo4bajwUU"
      },
      "source": [
        "## Setup"
      ]
    },
    {
      "cell_type": "code",
      "execution_count": 1,
      "metadata": {
        "id": "z682XYsrjkY9"
      },
      "outputs": [],
      "source": [
        "import numpy as np\n",
        "\n",
        "import tensorflow_datasets as tfds\n",
        "import tensorflow as tf\n",
        "\n",
        "tfds.disable_progress_bar()"
      ]
    },
    {
      "cell_type": "markdown",
      "metadata": {
        "id": "1rXHa-w9JZhb"
      },
      "source": [
        "Import `matplotlib` and create a helper function to plot graphs:"
      ]
    },
    {
      "cell_type": "code",
      "execution_count": 2,
      "metadata": {
        "id": "Mp1Z7P9pYRSK"
      },
      "outputs": [],
      "source": [
        "import matplotlib.pyplot as plt\n",
        "\n",
        "\n",
        "def plot_graphs(history, metric):\n",
        "  plt.plot(history.history[metric])\n",
        "  plt.plot(history.history['val_'+metric], '')\n",
        "  plt.xlabel(\"Epochs\")\n",
        "  plt.ylabel(metric)\n",
        "  plt.legend([metric, 'val_'+metric])"
      ]
    },
    {
      "cell_type": "markdown",
      "metadata": {
        "id": "pRmMubr0jrE2"
      },
      "source": [
        "## Setup input pipeline\n",
        "\n",
        "\n",
        "The IMDB large movie review dataset is a *binary classification* dataset—all the reviews have either a *positive* or *negative* sentiment.\n",
        "\n",
        "Download the dataset using [TFDS](https://www.tensorflow.org/datasets). See the [loading text tutorial](https://www.tensorflow.org/tutorials/load_data/text) for details on how to load this sort of data manually.\n"
      ]
    },
    {
      "cell_type": "code",
      "execution_count": 3,
      "metadata": {
        "id": "SHRwRoP2nVHX",
        "colab": {
          "base_uri": "https://localhost:8080/"
        },
        "outputId": "ec104f71-ba0f-4af3-e55c-a5ee7e777c00"
      },
      "outputs": [
        {
          "output_type": "stream",
          "name": "stdout",
          "text": [
            "\u001b[1mDownloading and preparing dataset imdb_reviews/plain_text/1.0.0 (download: 80.23 MiB, generated: Unknown size, total: 80.23 MiB) to /root/tensorflow_datasets/imdb_reviews/plain_text/1.0.0...\u001b[0m\n",
            "Shuffling and writing examples to /root/tensorflow_datasets/imdb_reviews/plain_text/1.0.0.incomplete0FVSQ5/imdb_reviews-train.tfrecord\n",
            "Shuffling and writing examples to /root/tensorflow_datasets/imdb_reviews/plain_text/1.0.0.incomplete0FVSQ5/imdb_reviews-test.tfrecord\n",
            "Shuffling and writing examples to /root/tensorflow_datasets/imdb_reviews/plain_text/1.0.0.incomplete0FVSQ5/imdb_reviews-unsupervised.tfrecord\n"
          ]
        },
        {
          "output_type": "stream",
          "name": "stderr",
          "text": [
            "WARNING:absl:Dataset is using deprecated text encoder API which will be removed soon. Please use the plain_text version of the dataset and migrate to `tensorflow_text`.\n"
          ]
        },
        {
          "output_type": "stream",
          "name": "stdout",
          "text": [
            "\u001b[1mDataset imdb_reviews downloaded and prepared to /root/tensorflow_datasets/imdb_reviews/plain_text/1.0.0. Subsequent calls will reuse this data.\u001b[0m\n"
          ]
        },
        {
          "output_type": "execute_result",
          "data": {
            "text/plain": [
              "(TensorSpec(shape=(), dtype=tf.string, name=None),\n",
              " TensorSpec(shape=(), dtype=tf.int64, name=None))"
            ]
          },
          "metadata": {},
          "execution_count": 3
        }
      ],
      "source": [
        "dataset, info = tfds.load('imdb_reviews', with_info=True,\n",
        "                          as_supervised=True)\n",
        "train_dataset, test_dataset = dataset['train'], dataset['test']\n",
        "\n",
        "train_dataset.element_spec"
      ]
    },
    {
      "cell_type": "markdown",
      "metadata": {
        "id": "nWA4c2ir7g6p"
      },
      "source": [
        "Initially this returns a dataset of (text, label pairs):"
      ]
    },
    {
      "cell_type": "code",
      "execution_count": 4,
      "metadata": {
        "id": "vd4_BGKyurao",
        "colab": {
          "base_uri": "https://localhost:8080/"
        },
        "outputId": "ec6abe4b-a89b-4adc-c3dd-e80e6ace86b2"
      },
      "outputs": [
        {
          "output_type": "stream",
          "name": "stdout",
          "text": [
            "text:  b\"This was an absolutely terrible movie. Don't be lured in by Christopher Walken or Michael Ironside. Both are great actors, but this must simply be their worst role in history. Even their great acting could not redeem this movie's ridiculous storyline. This movie is an early nineties US propaganda piece. The most pathetic scenes were those when the Columbian rebels were making their cases for revolutions. Maria Conchita Alonso appeared phony, and her pseudo-love affair with Walken was nothing but a pathetic emotional plug in a movie that was devoid of any real meaning. I am disappointed that there are movies like this, ruining actor's like Christopher Walken's good name. I could barely sit through it.\"\n",
            "label:  0\n"
          ]
        }
      ],
      "source": [
        "for example, label in train_dataset.take(1):\n",
        "  print('text: ', example.numpy())\n",
        "  print('label: ', label.numpy())"
      ]
    },
    {
      "cell_type": "markdown",
      "metadata": {
        "id": "z2qVJzcEluH_"
      },
      "source": [
        "Next shuffle the data for training and create batches of these `(text, label)` pairs:"
      ]
    },
    {
      "cell_type": "code",
      "execution_count": 5,
      "metadata": {
        "id": "dDsCaZCDYZgm"
      },
      "outputs": [],
      "source": [
        "BUFFER_SIZE = 10000\n",
        "BATCH_SIZE = 64"
      ]
    },
    {
      "cell_type": "code",
      "execution_count": 6,
      "metadata": {
        "id": "VznrltNOnUc5"
      },
      "outputs": [],
      "source": [
        "train_dataset = train_dataset.shuffle(BUFFER_SIZE).batch(BATCH_SIZE).prefetch(tf.data.AUTOTUNE)\n",
        "test_dataset = test_dataset.batch(BATCH_SIZE).prefetch(tf.data.AUTOTUNE)"
      ]
    },
    {
      "cell_type": "code",
      "execution_count": 7,
      "metadata": {
        "id": "jqkvdcFv41wC",
        "colab": {
          "base_uri": "https://localhost:8080/"
        },
        "outputId": "67f87a2f-ce7b-4059-8d03-d04094dd7658"
      },
      "outputs": [
        {
          "output_type": "stream",
          "name": "stdout",
          "text": [
            "texts:  [b\"I must pat myself on the back for watching this movie all the way through because it truly was painful. An incapable painter becomes a fully capable hit-man? This movie was rife with absurdities of which if I mentioned them all I would be giving away the movie. Norm Peterson aka George Wendt must really be in a rut to have agreed to do this movie. The acting was deplorable and the story was even worse. As a sane minded and rational individual, I could not understand where the writer came from nor where he was going with this movie. There was ineptness on the part of every main character, there was a string of hapless and ridiculous events, then the movie ended. One absurd act after another with dialogue doesn't make a movie, it only makes a talkative train wreck.\"\n",
            " b'Only the Antichrist could have been behind such a disaster. One only hopes that this irony was the motivating force behind the \"film\"! This movie was so bad, it forced me to register with IMDb, finally, just so I could trash it. What makes this movie all the more tragic is that it had such GREAT source material! I have never seen a movie where all the elements were so grotesquely mediocre as to render the result less than the sum of its parts.<br /><br />It may seem insignificant, but I\\'d like to start with the score. As the proud owner of a music degree, I must register my indignation! I was torn between laughter and dry heaves as I listened to what John Scheffer did to Goldsmith\\'s brilliant score; it was far more gruesome than any of the burlesque death scenes, and almost as inadvertently comedic. It was by far the most inappropriate score I\\'ve heard since, well, I really can\\'t think of a worse one. Maybe JAWS 4?<br /><br />As for the plot... I\\'m sorry. New Age mysticism??? What ever happened to the gritty realism of the original trilogy? In those films (more so in the first two than the third, but still!!) the supernatural was for the most part implied, and it was this subtlety that made the movies so eerily believable. Here we have crystals going black (calling all Skeksis and Mystics!!) and inverted crucifixes galore, even though in certain scenes the crucifux would be perfectly normal but for the camera angle. Gone is the refined psychlogical manipulation tapping the malaise inherent in our collective psyche: in its place a boorish \"slap in the face\" of recycled clich\\xc3\\xa9 and transparent incompetence. Add to that a lead \"actress\" so unbelievably ANNOYING that you fervently thank the director for those scenes from which she is absent. Never have I seen a little girl so fundamentally irritating since little Stephanie ruined ALL IN THE FAMILY.<br /><br />Other than that, I have no strong feelings on the subject ;-) Luckily the first three films are sufficiently adroit as to render this train-wreck of wasted celluloid inconsequential or, at the very most, a study in how NOT to make a film. Viewer beware! May induce vomiting if you\\'re lucky.'\n",
            " b'This sure is one comedy I\\'m not likely to forget for a while.<br /><br />Wouldn\\'t normally bother to comment on this movie: it\\'s so minor that no one would watch it anyway, but as it happens, it\\'s kind of popular in p2p sharing networks such as Kazaa, and so this saaad production needs to be exposed for what it is.<br /><br />So what is it then? Well, of course it\\'s not really a comedy; instead, it\\'s intended as a horror flick -- \"intended\" very much being the key word here. The script is a totally incoherent and unbalanced mess, the special effects are only special in that they\\'re especially pathetic, and as for the acting, well, let\\'s just say that if this had been my graduating play at primary school, my teachers would have burst out crying at our talent.<br /><br />Of course I realise that this is a very low budget film and that in those cases one should lower one\\'s expectations, certainly as far as things like special effects are concerned. Also, even though I\\'m a big fan of the horror genre, I\\'m aware that these movies are only rarely the places to look for interesting scripts and top notch acting.<br /><br />But still.<br /><br />B-movies often have some redeeming features to make up for the lack of funding, such as humour. The only laughs in Cradle to Fear lie in the ridiculous performances. If you can find the humour in that--and I could for the first 20 minutes or so, gradually dozing off after that--then that\\'s going to be the only thing the movie has to offer. Oh, that and two or three pairs of breasts.<br /><br />Woohoo, how exciting.<br /><br />As for the story, it\\'s not even that it doesn\\'t try to convey anything: the victims either use drugs and/or are involved in serious crime. The lesson: Watch out, naughty boys and girls, because one day you\\'ll be made to pay for what you\\'ve done.<br /><br />I rest my case.<br /><br />So, all in all, a little bit of sex, a fair amount of drugs, but absolutely zero rock \\'n roll.<br /><br />I rate this one 1 out of 10, but would go to 0 if I could. Or perhaps I wouldn\\'t: it deserves a 1 for spelling the actors\\' names correctly in the titles. I mean, that\\'s something, innit?']\n",
            "\n",
            "labels:  [0 0 0]\n"
          ]
        }
      ],
      "source": [
        "for example, label in train_dataset.take(1):\n",
        "  print('texts: ', example.numpy()[:3])\n",
        "  print()\n",
        "  print('labels: ', label.numpy()[:3])"
      ]
    },
    {
      "cell_type": "markdown",
      "metadata": {
        "id": "s5eWCo88voPY"
      },
      "source": [
        "## Create the text encoder"
      ]
    },
    {
      "cell_type": "markdown",
      "metadata": {
        "id": "TFevcItw15P_"
      },
      "source": [
        "The raw text loaded by `tfds` needs to be processed before it can be used in a model. The simplest way to process text for training is using the `TextVectorization` layer. This layer has many capabilities, but this tutorial sticks to the default behavior.\n",
        "\n",
        "Create the layer, and pass the dataset's text to the layer's `.adapt` method:"
      ]
    },
    {
      "cell_type": "code",
      "execution_count": 8,
      "metadata": {
        "id": "uC25Lu1Yvuqy"
      },
      "outputs": [],
      "source": [
        "VOCAB_SIZE = 1000\n",
        "encoder = tf.keras.layers.TextVectorization(\n",
        "    max_tokens=VOCAB_SIZE)\n",
        "encoder.adapt(train_dataset.map(lambda text, label: text))"
      ]
    },
    {
      "cell_type": "markdown",
      "metadata": {
        "id": "IuQzVBbe3Ldu"
      },
      "source": [
        "The `.adapt` method sets the layer's vocabulary. Here are the first 20 tokens. After the padding and unknown tokens they're sorted by frequency: "
      ]
    },
    {
      "cell_type": "code",
      "execution_count": 9,
      "metadata": {
        "id": "tBoyjjWg0Ac9",
        "colab": {
          "base_uri": "https://localhost:8080/"
        },
        "outputId": "69e49bb6-12dd-4632-9e90-1f5b94e82e0d"
      },
      "outputs": [
        {
          "output_type": "execute_result",
          "data": {
            "text/plain": [
              "array(['', '[UNK]', 'the', 'and', 'a', 'of', 'to', 'is', 'in', 'it', 'i',\n",
              "       'this', 'that', 'br', 'was', 'as', 'for', 'with', 'movie', 'but'],\n",
              "      dtype='<U14')"
            ]
          },
          "metadata": {},
          "execution_count": 9
        }
      ],
      "source": [
        "vocab = np.array(encoder.get_vocabulary())\n",
        "vocab[:20]"
      ]
    },
    {
      "cell_type": "markdown",
      "metadata": {
        "id": "mjId5pua3jHQ"
      },
      "source": [
        "Once the vocabulary is set, the layer can encode text into indices. The tensors of indices are 0-padded to the longest sequence in the batch (unless you set a fixed `output_sequence_length`):"
      ]
    },
    {
      "cell_type": "code",
      "execution_count": 10,
      "metadata": {
        "id": "RGc7C9WiwRWs",
        "colab": {
          "base_uri": "https://localhost:8080/"
        },
        "outputId": "b03aef65-0e4a-45a8-dc49-4cceda981787"
      },
      "outputs": [
        {
          "output_type": "execute_result",
          "data": {
            "text/plain": [
              "array([[ 10, 217,   1, ...,   0,   0,   0],\n",
              "       [ 61,   2,   1, ...,   0,   0,   0],\n",
              "       [ 11, 243,   7, ...,   0,   0,   0]])"
            ]
          },
          "metadata": {},
          "execution_count": 10
        }
      ],
      "source": [
        "encoded_example = encoder(example)[:3].numpy()\n",
        "encoded_example"
      ]
    },
    {
      "cell_type": "markdown",
      "metadata": {
        "id": "F5cjz0bS39IN"
      },
      "source": [
        "With the default settings, the process is not completely reversible. There are three main reasons for that:\n",
        "\n",
        "1. The default value for `preprocessing.TextVectorization`'s `standardize` argument is `\"lower_and_strip_punctuation\"`.\n",
        "2. The limited vocabulary size and lack of character-based fallback results in some unknown tokens."
      ]
    },
    {
      "cell_type": "code",
      "execution_count": 11,
      "metadata": {
        "id": "N_tD0QY5wXaK",
        "colab": {
          "base_uri": "https://localhost:8080/"
        },
        "outputId": "7dc9633a-c6b3-4bec-c4d5-7fa79febf8c0"
      },
      "outputs": [
        {
          "output_type": "stream",
          "name": "stdout",
          "text": [
            "Original:  b\"I must pat myself on the back for watching this movie all the way through because it truly was painful. An incapable painter becomes a fully capable hit-man? This movie was rife with absurdities of which if I mentioned them all I would be giving away the movie. Norm Peterson aka George Wendt must really be in a rut to have agreed to do this movie. The acting was deplorable and the story was even worse. As a sane minded and rational individual, I could not understand where the writer came from nor where he was going with this movie. There was ineptness on the part of every main character, there was a string of hapless and ridiculous events, then the movie ended. One absurd act after another with dialogue doesn't make a movie, it only makes a talkative train wreck.\"\n",
            "Round-trip:  i must [UNK] myself on the back for watching this movie all the way through because it truly was [UNK] an [UNK] [UNK] becomes a [UNK] [UNK] [UNK] this movie was [UNK] with [UNK] of which if i [UNK] them all i would be giving away the movie [UNK] [UNK] [UNK] george [UNK] must really be in a [UNK] to have [UNK] to do this movie the acting was [UNK] and the story was even worse as a [UNK] [UNK] and [UNK] [UNK] i could not understand where the writer came from nor where he was going with this movie there was [UNK] on the part of every main character there was a [UNK] of [UNK] and ridiculous events then the movie [UNK] one [UNK] act after another with dialogue doesnt make a movie it only makes a [UNK] [UNK] [UNK]                                                                                                                                                                                                                                                                                                                                                                                                                                                                                                                                                                                                                                                                                                                                                                             \n",
            "\n",
            "Original:  b'Only the Antichrist could have been behind such a disaster. One only hopes that this irony was the motivating force behind the \"film\"! This movie was so bad, it forced me to register with IMDb, finally, just so I could trash it. What makes this movie all the more tragic is that it had such GREAT source material! I have never seen a movie where all the elements were so grotesquely mediocre as to render the result less than the sum of its parts.<br /><br />It may seem insignificant, but I\\'d like to start with the score. As the proud owner of a music degree, I must register my indignation! I was torn between laughter and dry heaves as I listened to what John Scheffer did to Goldsmith\\'s brilliant score; it was far more gruesome than any of the burlesque death scenes, and almost as inadvertently comedic. It was by far the most inappropriate score I\\'ve heard since, well, I really can\\'t think of a worse one. Maybe JAWS 4?<br /><br />As for the plot... I\\'m sorry. New Age mysticism??? What ever happened to the gritty realism of the original trilogy? In those films (more so in the first two than the third, but still!!) the supernatural was for the most part implied, and it was this subtlety that made the movies so eerily believable. Here we have crystals going black (calling all Skeksis and Mystics!!) and inverted crucifixes galore, even though in certain scenes the crucifux would be perfectly normal but for the camera angle. Gone is the refined psychlogical manipulation tapping the malaise inherent in our collective psyche: in its place a boorish \"slap in the face\" of recycled clich\\xc3\\xa9 and transparent incompetence. Add to that a lead \"actress\" so unbelievably ANNOYING that you fervently thank the director for those scenes from which she is absent. Never have I seen a little girl so fundamentally irritating since little Stephanie ruined ALL IN THE FAMILY.<br /><br />Other than that, I have no strong feelings on the subject ;-) Luckily the first three films are sufficiently adroit as to render this train-wreck of wasted celluloid inconsequential or, at the very most, a study in how NOT to make a film. Viewer beware! May induce vomiting if you\\'re lucky.'\n",
            "Round-trip:  only the [UNK] could have been behind such a [UNK] one only [UNK] that this [UNK] was the [UNK] [UNK] behind the film this movie was so bad it forced me to [UNK] with imdb finally just so i could [UNK] it what makes this movie all the more [UNK] is that it had such great [UNK] material i have never seen a movie where all the elements were so [UNK] [UNK] as to [UNK] the result less than the [UNK] of its [UNK] br it may seem [UNK] but id like to start with the score as the [UNK] [UNK] of a music [UNK] i must [UNK] my [UNK] i was [UNK] between [UNK] and [UNK] [UNK] as i [UNK] to what john [UNK] did to [UNK] brilliant score it was far more [UNK] than any of the [UNK] death scenes and almost as [UNK] [UNK] it was by far the most [UNK] score ive heard since well i really cant think of a worse one maybe [UNK] [UNK] br as for the plot im sorry new age [UNK] what ever happened to the [UNK] [UNK] of the original [UNK] in those films more so in the first two than the third but still the [UNK] was for the most part [UNK] and it was this [UNK] that made the movies so [UNK] believable here we have [UNK] going black [UNK] all [UNK] and [UNK] and [UNK] [UNK] [UNK] even though in certain scenes the [UNK] would be perfectly [UNK] but for the camera [UNK] gone is the [UNK] [UNK] [UNK] [UNK] the [UNK] [UNK] in our [UNK] [UNK] in its place a [UNK] [UNK] in the face of [UNK] [UNK] and [UNK] [UNK] add to that a lead actress so [UNK] annoying that you [UNK] [UNK] the director for those scenes from which she is [UNK] never have i seen a little girl so [UNK] [UNK] since little [UNK] [UNK] all in the [UNK] br other than that i have no strong [UNK] on the subject [UNK] the first three films are [UNK] [UNK] as to [UNK] this [UNK] of [UNK] [UNK] [UNK] or at the very most a [UNK] in how not to make a film viewer [UNK] may [UNK] [UNK] if youre [UNK]                                                                                                                                                                                                                                                                                                                                                                                                                                                                                                                                 \n",
            "\n",
            "Original:  b'This sure is one comedy I\\'m not likely to forget for a while.<br /><br />Wouldn\\'t normally bother to comment on this movie: it\\'s so minor that no one would watch it anyway, but as it happens, it\\'s kind of popular in p2p sharing networks such as Kazaa, and so this saaad production needs to be exposed for what it is.<br /><br />So what is it then? Well, of course it\\'s not really a comedy; instead, it\\'s intended as a horror flick -- \"intended\" very much being the key word here. The script is a totally incoherent and unbalanced mess, the special effects are only special in that they\\'re especially pathetic, and as for the acting, well, let\\'s just say that if this had been my graduating play at primary school, my teachers would have burst out crying at our talent.<br /><br />Of course I realise that this is a very low budget film and that in those cases one should lower one\\'s expectations, certainly as far as things like special effects are concerned. Also, even though I\\'m a big fan of the horror genre, I\\'m aware that these movies are only rarely the places to look for interesting scripts and top notch acting.<br /><br />But still.<br /><br />B-movies often have some redeeming features to make up for the lack of funding, such as humour. The only laughs in Cradle to Fear lie in the ridiculous performances. If you can find the humour in that--and I could for the first 20 minutes or so, gradually dozing off after that--then that\\'s going to be the only thing the movie has to offer. Oh, that and two or three pairs of breasts.<br /><br />Woohoo, how exciting.<br /><br />As for the story, it\\'s not even that it doesn\\'t try to convey anything: the victims either use drugs and/or are involved in serious crime. The lesson: Watch out, naughty boys and girls, because one day you\\'ll be made to pay for what you\\'ve done.<br /><br />I rest my case.<br /><br />So, all in all, a little bit of sex, a fair amount of drugs, but absolutely zero rock \\'n roll.<br /><br />I rate this one 1 out of 10, but would go to 0 if I could. Or perhaps I wouldn\\'t: it deserves a 1 for spelling the actors\\' names correctly in the titles. I mean, that\\'s something, innit?'\n",
            "Round-trip:  this sure is one comedy im not [UNK] to forget for a [UNK] br wouldnt [UNK] [UNK] to comment on this movie its so [UNK] that no one would watch it anyway but as it happens its kind of [UNK] in [UNK] [UNK] [UNK] such as [UNK] and so this [UNK] production needs to be [UNK] for what it [UNK] br so what is it then well of course its not really a comedy instead its [UNK] as a horror flick [UNK] very much being the [UNK] word here the script is a totally [UNK] and [UNK] mess the special effects are only special in that theyre especially [UNK] and as for the acting well lets just say that if this had been my [UNK] play at [UNK] school my [UNK] would have [UNK] out [UNK] at our [UNK] br of course i [UNK] that this is a very low budget film and that in those [UNK] one should [UNK] ones [UNK] certainly as far as things like special effects are [UNK] also even though im a big fan of the horror genre im [UNK] that these movies are only [UNK] the [UNK] to look for interesting [UNK] and top [UNK] [UNK] br but [UNK] br [UNK] often have some [UNK] features to make up for the lack of [UNK] such as [UNK] the only laughs in [UNK] to [UNK] [UNK] in the ridiculous performances if you can find the [UNK] in [UNK] i could for the first 20 minutes or so [UNK] [UNK] off after [UNK] thats going to be the only thing the movie has to [UNK] oh that and two or three [UNK] of [UNK] br [UNK] how [UNK] br as for the story its not even that it doesnt try to [UNK] anything the [UNK] either use [UNK] [UNK] are involved in serious crime the [UNK] watch out [UNK] boys and girls because one day youll be made to pay for what youve [UNK] br i rest my [UNK] br so all in all a little bit of sex a [UNK] [UNK] of [UNK] but absolutely [UNK] rock [UNK] [UNK] br i [UNK] this one 1 out of 10 but would go to [UNK] if i could or perhaps i wouldnt it deserves a 1 for [UNK] the actors [UNK] [UNK] in the [UNK] i mean thats something [UNK]                                                                                                                                                                                                                                                                                                                                                                                                                                                                                                                 \n",
            "\n"
          ]
        }
      ],
      "source": [
        "for n in range(3):\n",
        "  print(\"Original: \", example[n].numpy())\n",
        "  print(\"Round-trip: \", \" \".join(vocab[encoded_example[n]]))\n",
        "  print()"
      ]
    },
    {
      "cell_type": "markdown",
      "metadata": {
        "id": "bjUqGVBxGw-t"
      },
      "source": [
        "## Create the model"
      ]
    },
    {
      "cell_type": "markdown",
      "metadata": {
        "id": "W7zsmInBOCPO"
      },
      "source": [
        "![A drawing of the information flow in the model](https://github.com/tensorflow/text/blob/master/docs/tutorials/images/bidirectional.png?raw=1)"
      ]
    },
    {
      "cell_type": "markdown",
      "metadata": {
        "id": "bgs6nnSTGw-t"
      },
      "source": [
        "Above is a diagram of the model. \n",
        "\n",
        "1. This model can be build as a `tf.keras.Sequential`.\n",
        "\n",
        "2. The first layer is the `encoder`, which converts the text to a sequence of token indices.\n",
        "\n",
        "3. After the encoder is an embedding layer. An embedding layer stores one vector per word. When called, it converts the sequences of word indices to sequences of vectors. These vectors are trainable. After training (on enough data), words with similar meanings often have similar vectors.\n",
        "\n",
        "  This index-lookup is much more efficient than the equivalent operation of passing a one-hot encoded vector through a `tf.keras.layers.Dense` layer.\n",
        "\n",
        "4. A recurrent neural network (RNN) processes sequence input by iterating through the elements. RNNs pass the outputs from one timestep to their input on the next timestep.\n",
        "\n",
        "  The `tf.keras.layers.Bidirectional` wrapper can also be used with an RNN layer. This propagates the input forward and backwards through the RNN layer and then concatenates the final output. \n",
        "\n",
        "  * The main advantage of a bidirectional RNN is that the signal from the beginning of the input doesn't need to be processed all the way through every timestep to affect the output.  \n",
        "\n",
        "  * The main disadvantage of a bidirectional RNN is that you can't efficiently stream predictions as words are being added to the end.\n",
        "\n",
        "5. After the RNN has converted the sequence to a single vector the two `layers.Dense` do some final processing, and convert from this vector representation to a single logit as the classification output. \n"
      ]
    },
    {
      "cell_type": "markdown",
      "metadata": {
        "id": "V4fodCI7soQi"
      },
      "source": [
        "The code to implement this is below:"
      ]
    },
    {
      "cell_type": "code",
      "execution_count": 12,
      "metadata": {
        "id": "LwfoBkmRYcP3"
      },
      "outputs": [],
      "source": [
        "model = tf.keras.Sequential([\n",
        "    encoder,\n",
        "    tf.keras.layers.Embedding(\n",
        "        input_dim=len(encoder.get_vocabulary()),\n",
        "        output_dim=64,\n",
        "        # Use masking to handle the variable sequence lengths\n",
        "        mask_zero=True),\n",
        "    tf.keras.layers.Bidirectional(tf.keras.layers.LSTM(64)),\n",
        "    tf.keras.layers.Dense(64, activation='relu'),\n",
        "    tf.keras.layers.Dense(1)\n",
        "])"
      ]
    },
    {
      "cell_type": "markdown",
      "metadata": {
        "id": "QIGmIGkkouUb"
      },
      "source": [
        "Please note that Keras sequential model is used here since all the layers in the model only have single input and produce single output. In case you want to use stateful RNN layer, you might want to build your model with Keras functional API or model subclassing so that you can retrieve and reuse the RNN layer states. Please check [Keras RNN guide](https://www.tensorflow.org/guide/keras/rnn#rnn_state_reuse) for more details."
      ]
    },
    {
      "cell_type": "markdown",
      "metadata": {
        "id": "kF-PsCk1LwjY"
      },
      "source": [
        "The embedding layer [uses masking](https://www.tensorflow.org/guide/keras/masking_and_padding) to handle the varying sequence-lengths. All the layers after the `Embedding` support masking:"
      ]
    },
    {
      "cell_type": "code",
      "execution_count": 13,
      "metadata": {
        "id": "87a8-CwfKebw",
        "colab": {
          "base_uri": "https://localhost:8080/"
        },
        "outputId": "f0afd7b4-4199-4e11-bde2-1c5bd5003684"
      },
      "outputs": [
        {
          "output_type": "stream",
          "name": "stdout",
          "text": [
            "[False, True, True, True, True]\n"
          ]
        }
      ],
      "source": [
        "print([layer.supports_masking for layer in model.layers])"
      ]
    },
    {
      "cell_type": "markdown",
      "metadata": {
        "id": "ZlS0iaUIWLpI"
      },
      "source": [
        "To confirm that this works as expected, evaluate a sentence twice. First, alone so there's no padding to mask:"
      ]
    },
    {
      "cell_type": "code",
      "execution_count": 14,
      "metadata": {
        "id": "O41gw3KfWHus",
        "colab": {
          "base_uri": "https://localhost:8080/"
        },
        "outputId": "32b1a7f0-b220-48f6-940a-4a742d233b4b"
      },
      "outputs": [
        {
          "output_type": "stream",
          "name": "stdout",
          "text": [
            "[0.0052036]\n"
          ]
        }
      ],
      "source": [
        "# predict on a sample text without padding.\n",
        "\n",
        "sample_text = ('The movie was cool. The animation and the graphics '\n",
        "               'were out of this world. I would recommend this movie.')\n",
        "predictions = model.predict(np.array([sample_text]))\n",
        "print(predictions[0])"
      ]
    },
    {
      "cell_type": "markdown",
      "metadata": {
        "id": "K0VQmGnEWcuz"
      },
      "source": [
        "Now, evaluate it again in a batch with a longer sentence. The result should be identical:"
      ]
    },
    {
      "cell_type": "code",
      "execution_count": 15,
      "metadata": {
        "id": "UIgpuTeFNDzq",
        "colab": {
          "base_uri": "https://localhost:8080/"
        },
        "outputId": "62b19b27-a3c9-4889-b703-d7c60a8eec44"
      },
      "outputs": [
        {
          "output_type": "stream",
          "name": "stdout",
          "text": [
            "[0.0052036]\n"
          ]
        }
      ],
      "source": [
        "# predict on a sample text with padding\n",
        "\n",
        "padding = \"the \" * 2000\n",
        "predictions = model.predict(np.array([sample_text, padding]))\n",
        "print(predictions[0])"
      ]
    },
    {
      "cell_type": "markdown",
      "metadata": {
        "id": "sRI776ZcH3Tf"
      },
      "source": [
        "Compile the Keras model to configure the training process:"
      ]
    },
    {
      "cell_type": "code",
      "execution_count": 16,
      "metadata": {
        "id": "kj2xei41YZjC"
      },
      "outputs": [],
      "source": [
        "model.compile(loss=tf.keras.losses.BinaryCrossentropy(from_logits=True),\n",
        "              optimizer=tf.keras.optimizers.Adam(1e-4),\n",
        "              metrics=['accuracy'])"
      ]
    },
    {
      "cell_type": "markdown",
      "metadata": {
        "id": "zIwH3nto596k"
      },
      "source": [
        "## Train the model"
      ]
    },
    {
      "cell_type": "code",
      "execution_count": 17,
      "metadata": {
        "id": "hw86wWS4YgR2",
        "colab": {
          "base_uri": "https://localhost:8080/"
        },
        "outputId": "b9047f78-9ac8-4c09-f27e-33f6da489d42"
      },
      "outputs": [
        {
          "output_type": "stream",
          "name": "stdout",
          "text": [
            "Epoch 1/10\n",
            "391/391 [==============================] - 108s 247ms/step - loss: 0.6285 - accuracy: 0.5876 - val_loss: 0.4414 - val_accuracy: 0.7911\n",
            "Epoch 2/10\n",
            "391/391 [==============================] - 93s 235ms/step - loss: 0.3850 - accuracy: 0.8256 - val_loss: 0.3611 - val_accuracy: 0.8250\n",
            "Epoch 3/10\n",
            "391/391 [==============================] - 93s 236ms/step - loss: 0.3387 - accuracy: 0.8504 - val_loss: 0.3362 - val_accuracy: 0.8453\n",
            "Epoch 4/10\n",
            "391/391 [==============================] - 93s 237ms/step - loss: 0.3183 - accuracy: 0.8634 - val_loss: 0.3344 - val_accuracy: 0.8609\n",
            "Epoch 5/10\n",
            "391/391 [==============================] - 93s 235ms/step - loss: 0.3125 - accuracy: 0.8672 - val_loss: 0.3249 - val_accuracy: 0.8531\n",
            "Epoch 6/10\n",
            "391/391 [==============================] - 94s 238ms/step - loss: 0.3074 - accuracy: 0.8671 - val_loss: 0.3237 - val_accuracy: 0.8578\n",
            "Epoch 7/10\n",
            "391/391 [==============================] - 92s 233ms/step - loss: 0.3036 - accuracy: 0.8704 - val_loss: 0.3234 - val_accuracy: 0.8573\n",
            "Epoch 8/10\n",
            "391/391 [==============================] - 91s 231ms/step - loss: 0.3019 - accuracy: 0.8710 - val_loss: 0.3290 - val_accuracy: 0.8578\n",
            "Epoch 9/10\n",
            "391/391 [==============================] - 93s 235ms/step - loss: 0.3023 - accuracy: 0.8708 - val_loss: 0.3294 - val_accuracy: 0.8552\n",
            "Epoch 10/10\n",
            "391/391 [==============================] - 94s 238ms/step - loss: 0.2993 - accuracy: 0.8724 - val_loss: 0.3244 - val_accuracy: 0.8583\n"
          ]
        }
      ],
      "source": [
        "history = model.fit(train_dataset, epochs=10,\n",
        "                    validation_data=test_dataset,\n",
        "                    validation_steps=30)"
      ]
    },
    {
      "cell_type": "code",
      "execution_count": 18,
      "metadata": {
        "id": "BaNbXi43YgUT",
        "colab": {
          "base_uri": "https://localhost:8080/"
        },
        "outputId": "94b75af2-1cb9-4cff-d046-5540a3b25eab"
      },
      "outputs": [
        {
          "output_type": "stream",
          "name": "stdout",
          "text": [
            "391/391 [==============================] - 47s 121ms/step - loss: 0.3206 - accuracy: 0.8609\n",
            "Test Loss: 0.3205939829349518\n",
            "Test Accuracy: 0.8608800172805786\n"
          ]
        }
      ],
      "source": [
        "test_loss, test_acc = model.evaluate(test_dataset)\n",
        "\n",
        "print('Test Loss:', test_loss)\n",
        "print('Test Accuracy:', test_acc)"
      ]
    },
    {
      "cell_type": "code",
      "execution_count": 19,
      "metadata": {
        "id": "OZmwt_mzaQJk",
        "colab": {
          "base_uri": "https://localhost:8080/",
          "height": 518
        },
        "outputId": "6fd0d364-1532-4e51-985f-78726cd9de1a"
      },
      "outputs": [
        {
          "output_type": "execute_result",
          "data": {
            "text/plain": [
              "(0.0, 0.6450103223323822)"
            ]
          },
          "metadata": {},
          "execution_count": 19
        },
        {
          "output_type": "display_data",
          "data": {
            "image/png": "[encoded data removed]",
            "text/plain": [
              "<Figure size 1152x576 with 2 Axes>"
            ]
          },
          "metadata": {
            "needs_background": "light"
          }
        }
      ],
      "source": [
        "plt.figure(figsize=(16, 8))\n",
        "plt.subplot(1, 2, 1)\n",
        "plot_graphs(history, 'accuracy')\n",
        "plt.ylim(None, 1)\n",
        "plt.subplot(1, 2, 2)\n",
        "plot_graphs(history, 'loss')\n",
        "plt.ylim(0, None)"
      ]
    },
    {
      "cell_type": "markdown",
      "metadata": {
        "id": "DwSE_386uhxD"
      },
      "source": [
        "Run a prediction on a new sentence:\n",
        "\n",
        "If the prediction is >= 0.0, it is positive else it is negative."
      ]
    },
    {
      "cell_type": "code",
      "execution_count": 20,
      "metadata": {
        "id": "ZXgfQSgRW6zU"
      },
      "outputs": [],
      "source": [
        "sample_text = ('The movie was cool. The animation and the graphics '\n",
        "               'were out of this world. I would recommend this movie.')\n",
        "predictions = model.predict(np.array([sample_text]))"
      ]
    },
    {
      "cell_type": "markdown",
      "metadata": {
        "id": "7g1evcaRpTKm"
      },
      "source": [
        "## Stack two or more LSTM layers\n",
        "\n",
        "Keras recurrent layers have two available modes that are controlled by the `return_sequences` constructor argument:\n",
        "\n",
        "* If `False` it returns only the last output for each input sequence (a 2D tensor of shape (batch_size, output_features)). This is the default, used in the previous model.\n",
        "\n",
        "* If `True` the full sequences of successive outputs for each timestep is returned (a 3D tensor of shape `(batch_size, timesteps, output_features)`).\n",
        "\n",
        "Here is what the flow of information looks like with `return_sequences=True`:\n",
        "\n",
        "![layered_bidirectional](https://github.com/tensorflow/text/blob/master/docs/tutorials/images/layered_bidirectional.png?raw=1)"
      ]
    },
    {
      "cell_type": "markdown",
      "metadata": {
        "id": "wbSClCrG1z8l"
      },
      "source": [
        "The interesting thing about using an `RNN` with `return_sequences=True` is that the output still has 3-axes, like the input, so it can be passed to another RNN layer, like this:"
      ]
    },
    {
      "cell_type": "code",
      "execution_count": 21,
      "metadata": {
        "id": "jo1jjO3vn0jo"
      },
      "outputs": [],
      "source": [
        "model = tf.keras.Sequential([\n",
        "    encoder,\n",
        "    tf.keras.layers.Embedding(len(encoder.get_vocabulary()), 64, mask_zero=True),\n",
        "    tf.keras.layers.Bidirectional(tf.keras.layers.LSTM(64,  return_sequences=True)),\n",
        "    tf.keras.layers.Bidirectional(tf.keras.layers.LSTM(32)),\n",
        "    tf.keras.layers.Dense(64, activation='relu'),\n",
        "    tf.keras.layers.Dropout(0.5),\n",
        "    tf.keras.layers.Dense(1)\n",
        "])"
      ]
    },
    {
      "cell_type": "code",
      "execution_count": 22,
      "metadata": {
        "id": "hEPV5jVGp-is"
      },
      "outputs": [],
      "source": [
        "model.compile(loss=tf.keras.losses.BinaryCrossentropy(from_logits=True),\n",
        "              optimizer=tf.keras.optimizers.Adam(1e-4),\n",
        "              metrics=['accuracy'])"
      ]
    },
    {
      "cell_type": "code",
      "execution_count": 23,
      "metadata": {
        "id": "LeSE-YjdqAeN",
        "colab": {
          "base_uri": "https://localhost:8080/"
        },
        "outputId": "d6fdaa33-2143-4630-c045-63f7faa3c7da"
      },
      "outputs": [
        {
          "output_type": "stream",
          "name": "stdout",
          "text": [
            "Epoch 1/10\n",
            "391/391 [==============================] - 195s 453ms/step - loss: 0.6225 - accuracy: 0.5903 - val_loss: 0.4267 - val_accuracy: 0.8042\n",
            "Epoch 2/10\n",
            "391/391 [==============================] - 169s 430ms/step - loss: 0.3847 - accuracy: 0.8311 - val_loss: 0.4360 - val_accuracy: 0.8146\n",
            "Epoch 3/10\n",
            "391/391 [==============================] - 170s 432ms/step - loss: 0.3421 - accuracy: 0.8505 - val_loss: 0.3297 - val_accuracy: 0.8536\n",
            "Epoch 4/10\n",
            "391/391 [==============================] - 167s 426ms/step - loss: 0.3188 - accuracy: 0.8641 - val_loss: 0.3332 - val_accuracy: 0.8578\n",
            "Epoch 5/10\n",
            "391/391 [==============================] - 169s 429ms/step - loss: 0.3122 - accuracy: 0.8644 - val_loss: 0.3164 - val_accuracy: 0.8599\n",
            "Epoch 6/10\n",
            "391/391 [==============================] - 167s 426ms/step - loss: 0.3063 - accuracy: 0.8690 - val_loss: 0.3295 - val_accuracy: 0.8464\n",
            "Epoch 7/10\n",
            "391/391 [==============================] - 169s 430ms/step - loss: 0.3055 - accuracy: 0.8694 - val_loss: 0.3376 - val_accuracy: 0.8438\n",
            "Epoch 8/10\n",
            "391/391 [==============================] - 173s 440ms/step - loss: 0.3018 - accuracy: 0.8693 - val_loss: 0.3155 - val_accuracy: 0.8615\n",
            "Epoch 9/10\n",
            "391/391 [==============================] - 172s 437ms/step - loss: 0.2968 - accuracy: 0.8713 - val_loss: 0.3393 - val_accuracy: 0.8313\n",
            "Epoch 10/10\n",
            "391/391 [==============================] - 171s 434ms/step - loss: 0.2976 - accuracy: 0.8726 - val_loss: 0.3223 - val_accuracy: 0.8536\n"
          ]
        }
      ],
      "source": [
        "history = model.fit(train_dataset, epochs=10,\n",
        "                    validation_data=test_dataset,\n",
        "                    validation_steps=30)"
      ]
    },
    {
      "cell_type": "code",
      "execution_count": 24,
      "metadata": {
        "id": "_LdwilM1qPM3",
        "colab": {
          "base_uri": "https://localhost:8080/"
        },
        "outputId": "dcaf7ae8-fc49-4020-8f4b-37c5bd9baca3"
      },
      "outputs": [
        {
          "output_type": "stream",
          "name": "stdout",
          "text": [
            "391/391 [==============================] - 84s 215ms/step - loss: 0.3167 - accuracy: 0.8559\n",
            "Test Loss: 0.31665146350860596\n",
            "Test Accuracy: 0.8558800220489502\n"
          ]
        }
      ],
      "source": [
        "test_loss, test_acc = model.evaluate(test_dataset)\n",
        "\n",
        "print('Test Loss:', test_loss)\n",
        "print('Test Accuracy:', test_acc)"
      ]
    },
    {
      "cell_type": "code",
      "execution_count": 25,
      "metadata": {
        "id": "ykUKnAoqbycW",
        "colab": {
          "base_uri": "https://localhost:8080/"
        },
        "outputId": "b464e4bc-dcad-4611-9d26-3abe17371e7d"
      },
      "outputs": [
        {
          "output_type": "stream",
          "name": "stdout",
          "text": [
            "[[-1.6459106]]\n"
          ]
        }
      ],
      "source": [
        "# predict on a sample text without padding.\n",
        "\n",
        "sample_text = ('The movie was not good. The animation and the graphics '\n",
        "               'were terrible. I would not recommend this movie.')\n",
        "predictions = model.predict(np.array([sample_text]))\n",
        "print(predictions)"
      ]
    },
    {
      "cell_type": "code",
      "execution_count": 26,
      "metadata": {
        "id": "_YYub0EDtwCu",
        "colab": {
          "base_uri": "https://localhost:8080/",
          "height": 388
        },
        "outputId": "baf762bc-a240-42ff-e442-b9f11837a4c2"
      },
      "outputs": [
        {
          "output_type": "display_data",
          "data": {
            "image/png": "[encoded data removed]",
            "text/plain": [
              "<Figure size 1152x432 with 2 Axes>"
            ]
          },
          "metadata": {
            "needs_background": "light"
          }
        }
      ],
      "source": [
        "plt.figure(figsize=(16, 6))\n",
        "plt.subplot(1, 2, 1)\n",
        "plot_graphs(history, 'accuracy')\n",
        "plt.subplot(1, 2, 2)\n",
        "plot_graphs(history, 'loss')"
      ]
    },
    {
      "cell_type": "markdown",
      "metadata": {
        "id": "9xvpE3BaGw_V"
      },
      "source": [
        "Check out other existing recurrent layers such as [GRU layers](https://www.tensorflow.org/api_docs/python/tf/keras/layers/GRU).\n",
        "\n",
        "If you're interestied in building custom RNNs, see the [Keras RNN Guide](https://www.tensorflow.org/guide/keras/rnn).\n"
      ]
    }
  ],
  "metadata": {
    "accelerator": "GPU",
    "colab": {
      "collapsed_sections": [],
      "name": "text_classification_rnn.ipynb",
      "provenance": [],
      "include_colab_link": true
    },
    "kernelspec": {
      "display_name": "Python 3",
      "name": "python3"
    }
  },
  "nbformat": 4,
  "nbformat_minor": 0
}